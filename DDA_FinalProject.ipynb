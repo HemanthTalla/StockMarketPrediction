{
 "cells": [
  {
   "cell_type": "markdown",
   "id": "35ccb8e5",
   "metadata": {},
   "source": [
    "## StockMarketPrediction"
   ]
  },
  {
   "cell_type": "markdown",
   "id": "6728aab1",
   "metadata": {},
   "source": [
    "#### 1. Data Manipulation"
   ]
  },
  {
   "cell_type": "markdown",
   "id": "00338c27",
   "metadata": {},
   "source": [
    "##### 1.1 Loading Data into Database"
   ]
  },
  {
   "cell_type": "code",
   "execution_count": 1,
   "id": "fb8d155b-149b-4fec-a717-61b4fb3dbdda",
   "metadata": {},
   "outputs": [],
   "source": [
    "from IPython.display import display, HTML\n",
    "import pandas as pd\n",
    "import sqlite3\n",
    "from sqlite3 import Error\n",
    "\n",
    "def create_connection(db_file, delete_db=False):\n",
    "    import os\n",
    "    if delete_db and os.path.exists(db_file):\n",
    "        os.remove(db_file)\n",
    "\n",
    "    conn = None\n",
    "    try:\n",
    "        conn = sqlite3.connect(db_file)\n",
    "        conn.execute(\"PRAGMA foreign_keys = 1\")\n",
    "    except Error as e:\n",
    "        print(e)\n",
    "\n",
    "    return conn\n",
    "\n",
    "\n",
    "def create_table(create_table_sql, conn):\n",
    "    try:\n",
    "        c = conn.cursor()\n",
    "        c.execute(create_table_sql)\n",
    "    except Error as e:\n",
    "        print(e)\n",
    "        \n",
    "def execute_sql_statement(sql_statement, conn):\n",
    "    cur = conn.cursor()\n",
    "    cur.execute(sql_statement)\n",
    "\n",
    "    rows = cur.fetchall()\n",
    "\n",
    "    return rows"
   ]
  },
  {
   "cell_type": "code",
   "execution_count": 2,
   "id": "a77c1f42",
   "metadata": {},
   "outputs": [],
   "source": [
    "conn = create_connection(\"normalized_ppg6.db\")"
   ]
  },
  {
   "cell_type": "code",
   "execution_count": 3,
   "id": "912ef847-d8a3-4c2f-aca5-7ce350dc6139",
   "metadata": {
    "tags": []
   },
   "outputs": [],
   "source": [
    "import os\n",
    "def loadFiles(foldername='Datasets', fileformat='.csv'):\n",
    "    csvfiles = list(filter(lambda f: f.endswith(f'{fileformat}'), os.listdir(f'./{foldername}')))\n",
    "    csvfiles = [os.path.abspath(f\"{foldername}/{file}\") for file in csvfiles]\n",
    "    return(csvfiles)\n",
    "\n",
    "csvfiles = loadFiles()"
   ]
  },
  {
   "cell_type": "code",
   "execution_count": 4,
   "id": "318bfd16",
   "metadata": {},
   "outputs": [],
   "source": [
    "%%capture\n",
    "def loadDatabase(file_list=csvfiles, connx=conn, overwrite=True,):\n",
    "    for filepath in file_list:\n",
    "        df = pd.read_csv(filepath)\n",
    "        filename = os.path.basename(filepath)\n",
    "        table_name = filename.rsplit('.',1)[0]\n",
    "        write_mode = 'replace' if overwrite else 'append'\n",
    "        df.to_sql(table_name, connx, if_exists=write_mode, index=False)\n",
    "\n",
    "loadDatabase()"
   ]
  },
  {
   "cell_type": "code",
   "execution_count": 5,
   "id": "0ccce09c",
   "metadata": {},
   "outputs": [],
   "source": [
    "def query_table(sql_query, connx=conn, ret=False):\n",
    "    testdf = execute_sql_statement(sql_query, connx)\n",
    "    if ret:\n",
    "        return(testdf)\n",
    "    else:\n",
    "        display(testdf)"
   ]
  },
  {
   "cell_type": "code",
   "execution_count": 6,
   "id": "fb2246bd-5ac1-4005-a77d-c7cbec3f94f2",
   "metadata": {
    "scrolled": true,
    "tags": []
   },
   "outputs": [
    {
     "data": {
      "text/plain": [
       "[('AAPL_5Y',),\n",
       " ('AMZN_5Y',),\n",
       " ('Company',),\n",
       " ('FB_5Y',),\n",
       " ('GOOG_5Y',),\n",
       " ('HistoricalPrices',),\n",
       " ('NFLX_5Y',),\n",
       " ('TSLA_5Y',)]"
      ]
     },
     "execution_count": 6,
     "metadata": {},
     "output_type": "execute_result"
    }
   ],
   "source": [
    "sql_statement = \"SELECT name FROM sqlite_master WHERE type='table' ORDER BY name;\"\n",
    "query_table(sql_statement,ret=True)"
   ]
  },
  {
   "cell_type": "code",
   "execution_count": 7,
   "id": "9259a298-c249-434e-b38d-f44a05e129eb",
   "metadata": {},
   "outputs": [
    {
     "name": "stdout",
     "output_type": "stream",
     "text": [
      "table HistoricalPrices already exists\n"
     ]
    }
   ],
   "source": [
    "sql_statement = \"\"\"CREATE TABLE HistoricalPrices AS\n",
    "SELECT * FROM\n",
    "(SELECT 'AAPL' AS StockSymbol, * FROM AAPL_5Y\n",
    "UNION ALL\n",
    "SELECT 'AMZN' AS StockSymbol, * FROM AMZN_5Y\n",
    "UNION ALL\n",
    "SELECT 'FB' AS StockSymbol, * FROM FB_5Y\n",
    "UNION ALL\n",
    "SELECT 'GOOG' AS StockSymbol, * FROM GOOG_5Y\n",
    "UNION ALL\n",
    "SELECT 'NFLX' AS StockSymbol, * FROM NFLX_5Y);\"\"\"\n",
    "create_table(sql_statement, conn)"
   ]
  },
  {
   "cell_type": "markdown",
   "id": "1e1a909d",
   "metadata": {},
   "source": [
    "#### 2. Data Exploration"
   ]
  },
  {
   "cell_type": "markdown",
   "id": "a712824c",
   "metadata": {},
   "source": [
    "#### 3. Time-Series Analysis"
   ]
  },
  {
   "cell_type": "code",
   "execution_count": null,
   "id": "8d29042c",
   "metadata": {},
   "outputs": [],
   "source": []
  }
 ],
 "metadata": {
  "kernelspec": {
   "display_name": "Python 3 (ipykernel)",
   "language": "python",
   "name": "python3"
  },
  "language_info": {
   "codemirror_mode": {
    "name": "ipython",
    "version": 3
   },
   "file_extension": ".py",
   "mimetype": "text/x-python",
   "name": "python",
   "nbconvert_exporter": "python",
   "pygments_lexer": "ipython3",
   "version": "3.9.9"
  }
 },
 "nbformat": 4,
 "nbformat_minor": 5
}
