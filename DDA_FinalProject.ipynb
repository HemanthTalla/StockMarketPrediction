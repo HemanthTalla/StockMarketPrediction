{
 "cells": [
  {
   "cell_type": "code",
   "execution_count": 1,
   "id": "fb8d155b-149b-4fec-a717-61b4fb3dbdda",
   "metadata": {},
   "outputs": [],
   "source": [
    "from IPython.display import display, HTML\n",
    "import pandas as pd\n",
    "import sqlite3\n",
    "from sqlite3 import Error\n",
    "\n",
    "def create_connection(db_file, delete_db=False):\n",
    "    import os\n",
    "    if delete_db and os.path.exists(db_file):\n",
    "        os.remove(db_file)\n",
    "\n",
    "    conn = None\n",
    "    try:\n",
    "        conn = sqlite3.connect(db_file)\n",
    "        conn.execute(\"PRAGMA foreign_keys = 1\")\n",
    "    except Error as e:\n",
    "        print(e)\n",
    "\n",
    "    return conn\n",
    "\n",
    "\n",
    "def create_table(create_table_sql, conn):\n",
    "    try:\n",
    "        c = conn.cursor()\n",
    "        c.execute(create_table_sql)\n",
    "    except Error as e:\n",
    "        print(e)\n",
    "        \n",
    "def execute_sql_statement(sql_statement, conn):\n",
    "    cur = conn.cursor()\n",
    "    cur.execute(sql_statement)\n",
    "\n",
    "    rows = cur.fetchall()\n",
    "\n",
    "    return rows"
   ]
  },
  {
   "cell_type": "code",
   "execution_count": 2,
   "id": "a77c1f42",
   "metadata": {},
   "outputs": [],
   "source": [
    "conn = create_connection(\"normalized_ppg6.db\", delete_db=True)"
   ]
  },
  {
   "cell_type": "code",
   "execution_count": 3,
   "id": "912ef847-d8a3-4c2f-aca5-7ce350dc6139",
   "metadata": {
    "tags": []
   },
   "outputs": [
    {
     "data": {
      "text/plain": [
       "['C:\\\\Users\\\\iamh2k\\\\H2K\\\\PyhtonProject\\\\Datasets\\\\AAPL_5Y.csv',\n",
       " 'C:\\\\Users\\\\iamh2k\\\\H2K\\\\PyhtonProject\\\\Datasets\\\\AMZN_5Y.csv',\n",
       " 'C:\\\\Users\\\\iamh2k\\\\H2K\\\\PyhtonProject\\\\Datasets\\\\Company.csv',\n",
       " 'C:\\\\Users\\\\iamh2k\\\\H2K\\\\PyhtonProject\\\\Datasets\\\\FB_5Y.csv',\n",
       " 'C:\\\\Users\\\\iamh2k\\\\H2K\\\\PyhtonProject\\\\Datasets\\\\GOOG_5Y.csv',\n",
       " 'C:\\\\Users\\\\iamh2k\\\\H2K\\\\PyhtonProject\\\\Datasets\\\\NFLX_5Y.csv',\n",
       " 'C:\\\\Users\\\\iamh2k\\\\H2K\\\\PyhtonProject\\\\Datasets\\\\TSLA_5Y.csv']"
      ]
     },
     "execution_count": 3,
     "metadata": {},
     "output_type": "execute_result"
    }
   ],
   "source": [
    "import os\n",
    "def loadFiles(foldername='Datasets', fileformat='.csv'):\n",
    "    csvfiles = list(filter(lambda f: f.endswith(f'{fileformat}'), os.listdir(f'./{foldername}')))\n",
    "    csvfiles = [os.path.abspath(f\"{foldername}/{file}\") for file in csvfiles]\n",
    "    return(csvfiles)\n",
    "\n",
    "csvfiles = loadFiles()\n",
    "csvfiles"
   ]
  },
  {
   "cell_type": "code",
   "execution_count": 4,
   "id": "318bfd16",
   "metadata": {},
   "outputs": [
    {
     "name": "stderr",
     "output_type": "stream",
     "text": [
      "C:\\Users\\iamh2k\\AppData\\Local\\Packages\\PythonSoftwareFoundation.Python.3.9_qbz5n2kfra8p0\\LocalCache\\local-packages\\Python39\\site-packages\\pandas\\core\\generic.py:2872: UserWarning: The spaces in these column names will not be changed. In pandas versions < 0.14, spaces were converted to underscores.\n",
      "  sql.to_sql(\n"
     ]
    }
   ],
   "source": [
    "def loadDatabase(file_list=csvfiles, connx=conn, overwrite=True,):\n",
    "    for filepath in csvfiles:\n",
    "        df = pd.read_csv(filepath)\n",
    "        filename = os.path.basename(filepath)\n",
    "        table_name = filename.rsplit('.',1)[0]\n",
    "        write_mode = 'replace' if overwrite else 'append'\n",
    "        df.to_sql(table_name, connx, if_exists=write_mode, index=False)\n",
    "\n",
    "loadDatabase()"
   ]
  },
  {
   "cell_type": "code",
   "execution_count": 5,
   "id": "fb2246bd-5ac1-4005-a77d-c7cbec3f94f2",
   "metadata": {
    "scrolled": true,
    "tags": []
   },
   "outputs": [
    {
     "data": {
      "text/plain": [
       "[('AAPL_5Y',),\n",
       " ('AMZN_5Y',),\n",
       " ('Company',),\n",
       " ('FB_5Y',),\n",
       " ('GOOG_5Y',),\n",
       " ('NFLX_5Y',),\n",
       " ('TSLA_5Y',)]"
      ]
     },
     "metadata": {},
     "output_type": "display_data"
    }
   ],
   "source": [
    "sql_statement = \"SELECT name FROM sqlite_master WHERE type='table' ORDER BY name;\"\n",
    "testdf = execute_sql_statement(sql_statement, conn)\n",
    "display(testdf)"
   ]
  },
  {
   "cell_type": "code",
   "execution_count": 6,
   "id": "209f175b-fa4b-4c80-b6ea-bde18bd58bbd",
   "metadata": {
    "scrolled": true,
    "tags": []
   },
   "outputs": [
    {
     "data": {
      "text/plain": [
       "[('AAPL',\n",
       "  '2016-12-12',\n",
       "  113.290001,\n",
       "  115.0,\n",
       "  112.489998,\n",
       "  113.300003,\n",
       "  110.569832,\n",
       "  26374377),\n",
       " ('AAPL',\n",
       "  '2016-12-13',\n",
       "  113.839996,\n",
       "  115.919998,\n",
       "  113.75,\n",
       "  115.190002,\n",
       "  112.414291,\n",
       "  43733811),\n",
       " ('AAPL',\n",
       "  '2016-12-14',\n",
       "  115.040001,\n",
       "  116.199997,\n",
       "  114.980003,\n",
       "  115.190002,\n",
       "  112.414291,\n",
       "  34031834),\n",
       " ('AAPL',\n",
       "  '2016-12-15',\n",
       "  115.379997,\n",
       "  116.730003,\n",
       "  115.230003,\n",
       "  115.82,\n",
       "  113.029099,\n",
       "  46524544),\n",
       " ('AAPL',\n",
       "  '2016-12-16',\n",
       "  116.470001,\n",
       "  116.5,\n",
       "  115.644997,\n",
       "  115.970001,\n",
       "  113.175507,\n",
       "  44351134),\n",
       " ('AAPL',\n",
       "  '2016-12-19',\n",
       "  115.800003,\n",
       "  117.379997,\n",
       "  115.75,\n",
       "  116.639999,\n",
       "  113.829353,\n",
       "  27779423),\n",
       " ('AAPL',\n",
       "  '2016-12-20',\n",
       "  116.739998,\n",
       "  117.5,\n",
       "  116.68,\n",
       "  116.949997,\n",
       "  114.131874,\n",
       "  21424965),\n",
       " ('AAPL',\n",
       "  '2016-12-21',\n",
       "  116.800003,\n",
       "  117.400002,\n",
       "  116.779999,\n",
       "  117.059998,\n",
       "  114.239235,\n",
       "  23724084),\n",
       " ('AAPL',\n",
       "  '2016-12-22',\n",
       "  116.349998,\n",
       "  116.510002,\n",
       "  115.639999,\n",
       "  116.290001,\n",
       "  113.487785,\n",
       "  26085854),\n",
       " ('AAPL',\n",
       "  '2016-12-23',\n",
       "  115.589996,\n",
       "  116.519997,\n",
       "  115.589996,\n",
       "  116.519997,\n",
       "  113.712219,\n",
       "  14249484)]"
      ]
     },
     "metadata": {},
     "output_type": "display_data"
    }
   ],
   "source": [
    "sql_statement = \"SELECT 'AAPL' AS StockSymbol, * FROM AAPL_5Y LIMIT 10;\"\n",
    "testdf = execute_sql_statement(sql_statement, conn)\n",
    "display(testdf)"
   ]
  },
  {
   "cell_type": "code",
   "execution_count": 7,
   "id": "9259a298-c249-434e-b38d-f44a05e129eb",
   "metadata": {},
   "outputs": [],
   "source": [
    "sql_statement = \"\"\"CREATE TABLE HistoricalPrices AS\n",
    "SELECT * FROM\n",
    "(SELECT 'AAPL' AS StockSymbol, * FROM AAPL_5Y\n",
    "UNION ALL\n",
    "SELECT 'AMZN' AS StockSymbol, * FROM AMZN_5Y\n",
    "UNION ALL\n",
    "SELECT 'FB' AS StockSymbol, * FROM FB_5Y\n",
    "UNION ALL\n",
    "SELECT 'GOOG' AS StockSymbol, * FROM GOOG_5Y\n",
    "UNION ALL\n",
    "SELECT 'NFLX' AS StockSymbol, * FROM NFLX_5Y);\"\"\"\n",
    "create_table(sql_statement, conn)"
   ]
  },
  {
   "cell_type": "code",
   "execution_count": 8,
   "id": "1da5dc7e-fcaf-45ef-8b8d-dbd338d50cb4",
   "metadata": {},
   "outputs": [
    {
     "data": {
      "text/plain": [
       "[('AAPL',\n",
       "  '2016-12-12',\n",
       "  113.290001,\n",
       "  115.0,\n",
       "  112.489998,\n",
       "  113.300003,\n",
       "  110.569832,\n",
       "  26374377)]"
      ]
     },
     "metadata": {},
     "output_type": "display_data"
    }
   ],
   "source": [
    "sql_statement = \"SELECT * FROM HistoricalPrices LIMIT 1;\"\n",
    "testdf = execute_sql_statement(sql_statement, conn)\n",
    "display(testdf)"
   ]
  },
  {
   "cell_type": "code",
   "execution_count": 9,
   "id": "67055c53-7cb5-46f3-959c-6fe071f9660e",
   "metadata": {},
   "outputs": [
    {
     "data": {
      "text/plain": [
       "[(1,\n",
       "  'Apple Inc.',\n",
       "  'AAPL',\n",
       "  '2.944T',\n",
       "  '1980-12-12',\n",
       "  '$22.00',\n",
       "  '$101.2M',\n",
       "  '$1.2B')]"
      ]
     },
     "metadata": {},
     "output_type": "display_data"
    }
   ],
   "source": [
    "sql_statement = \"SELECT * FROM Company LIMIT 1;\"\n",
    "testdf = execute_sql_statement(sql_statement, conn)\n",
    "display(testdf)"
   ]
  }
 ],
 "metadata": {
  "kernelspec": {
   "display_name": "Python 3 (ipykernel)",
   "language": "python",
   "name": "python3"
  },
  "language_info": {
   "codemirror_mode": {
    "name": "ipython",
    "version": 3
   },
   "file_extension": ".py",
   "mimetype": "text/x-python",
   "name": "python",
   "nbconvert_exporter": "python",
   "pygments_lexer": "ipython3",
   "version": "3.9.9"
  }
 },
 "nbformat": 4,
 "nbformat_minor": 5
}
